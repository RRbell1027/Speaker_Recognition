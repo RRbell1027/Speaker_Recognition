{
 "cells": [
  {
   "cell_type": "code",
   "execution_count": 1,
   "id": "c7033ab5",
   "metadata": {},
   "outputs": [],
   "source": [
    "from PyQt5.QtWidgets import QMainWindow, QFileDialog, QApplication\n",
    "from PyQt5.QtMultimedia import QMediaPlayer, QMediaContent\n",
    "from GUI import Ui_MainWindow\n",
    "import pandas as pd\n",
    "\n",
    "class myMainWindow(Ui_MainWindow,QMainWindow):\n",
    "    def __init__(self):\n",
    "        super(Ui_MainWindow, self).__init__()\n",
    "        self.setupUi(self)\n",
    "\n",
    "        # 設定影片播放位置 = videoWidget        \n",
    "        self.player = QMediaPlayer()\n",
    "        self.player.setVideoOutput(self.videoWidget)\n",
    "\n",
    "        # 設定按鈕響應事件\n",
    "        self.openVideoFileButton.clicked.connect(self.openVideoFile)   # open video file\n",
    "        self.openCaptionFileButton.clicked.connect(self.openCaptionFile)    # open caption file\n",
    "        self.playOrPauseButton.clicked.connect(self.playOrPause)       # play or pause\n",
    "        \n",
    "        # 進度條\n",
    "        self.durationSlider.setEnabled(False)\n",
    "        self.player.durationChanged.connect(self.getDuration)\n",
    "        self.player.positionChanged.connect(self.getPosition)\n",
    "        self.durationSlider.sliderMoved.connect(self.updatePosition)\n",
    "        \n",
    "        # 字幕\n",
    "        self.captionExist = False\n",
    "        self.player.positionChanged.connect(self.updateCaption)\n",
    "        \n",
    "    # 開啟影片檔案\n",
    "    def openVideoFile(self):\n",
    "        self.player.setMedia(QMediaContent(QFileDialog.getOpenFileUrl(filter='Videos (*.mp4 *.avi *.mkv)')[0]))  # 選取影片\n",
    "        self.player.play()\n",
    "        \n",
    "    # 開啟字幕檔案\n",
    "    def openCaptionFile(self):\n",
    "        path = QFileDialog.getOpenFileName(filter='*.csv') # 選取字幕\n",
    "        if path[0] != '':\n",
    "            self.captionExist = True\n",
    "            self.caption = pd.read_csv(path[0])\n",
    "\n",
    "    # 取得影片總長度\n",
    "    def getDuration(self, duration):\n",
    "        self.durationSlider.setRange(0, duration)\n",
    "        self.durationSlider.setEnabled(True)\n",
    "        self.displayTime(duration)\n",
    "        \n",
    "    # 取得影片播放進度位置\n",
    "    def getPosition(self, position):\n",
    "        self.durationSlider.setValue(position)\n",
    "        self.displayTime(self.durationSlider.maximum() - position)\n",
    "        \n",
    "    # 更新進度\n",
    "    def updatePosition(self, position):\n",
    "        self.player.setPosition(position)\n",
    "        self.displayTime(self.durationSlider.maximum() - position)\n",
    "        self.updateCaption(position)\n",
    "        \n",
    "    # 更新字幕\n",
    "    def updateCaption(self, position):\n",
    "        if not self.captionExist:\n",
    "            return\n",
    "        \n",
    "        # 每次影片進度更新，在字幕列表中尋找對應時間段的字幕\n",
    "        position = int(position/1000)\n",
    "        for i in range(len(self.caption)):\n",
    "            if i == 0:\n",
    "                continue\n",
    "            elif self.caption.iat[i-1, 1] <= position < self.caption.iat[i, 1]:\n",
    "                self.speakerLabel.setText(self.caption.iat[i-1, 2])\n",
    "                self.textLabel.setText(self.caption.iat[i-1, 3])\n",
    "                \n",
    "    # 播放或暫停\n",
    "    def playOrPause(self):\n",
    "        if self.player.state() == 1:\n",
    "            self.player.pause()\n",
    "        elif self.player.state() == 2 or self.durationSlider.value() != 0:\n",
    "            self.player.play()\n",
    "      \n",
    "    # 顯示剩餘時間\n",
    "    def displayTime(self, ms):\n",
    "        m = int(ms/60000)\n",
    "        s = int((ms % 60000) / 1000)\n",
    "        self.durationLabel.setText('{}:{}'.format(m, s))\n",
    "    \n",
    "    # 結束應用程式，同時結束影片播放器\n",
    "    def closeEvent(self, event):\n",
    "        self.player.stop()"
   ]
  },
  {
   "cell_type": "code",
   "execution_count": 2,
   "id": "bd7773da",
   "metadata": {},
   "outputs": [
    {
     "ename": "SystemExit",
     "evalue": "0",
     "output_type": "error",
     "traceback": [
      "An exception has occurred, use %tb to see the full traceback.\n",
      "\u001b[1;31mSystemExit\u001b[0m\u001b[1;31m:\u001b[0m 0\n"
     ]
    },
    {
     "name": "stderr",
     "output_type": "stream",
     "text": [
      "C:\\Users\\jack3\\anaconda3\\envs\\app_creater\\lib\\site-packages\\IPython\\core\\interactiveshell.py:3561: UserWarning: To exit: use 'exit', 'quit', or Ctrl-D.\n",
      "  warn(\"To exit: use 'exit', 'quit', or Ctrl-D.\", stacklevel=1)\n"
     ]
    }
   ],
   "source": [
    "import sys\n",
    "if __name__ == '__main__':\n",
    "    app = QApplication(sys.argv)\n",
    "    window = myMainWindow()\n",
    "    window.show()\n",
    "    sys.exit(app.exec_())"
   ]
  }
 ],
 "metadata": {
  "kernelspec": {
   "display_name": "app_creater",
   "language": "python",
   "name": "app_creater"
  },
  "language_info": {
   "codemirror_mode": {
    "name": "ipython",
    "version": 3
   },
   "file_extension": ".py",
   "mimetype": "text/x-python",
   "name": "python",
   "nbconvert_exporter": "python",
   "pygments_lexer": "ipython3",
   "version": "3.7.13"
  }
 },
 "nbformat": 4,
 "nbformat_minor": 5
}
