{
 "cells": [
  {
   "cell_type": "code",
   "execution_count": 1,
   "id": "1c9e56e7",
   "metadata": {},
   "outputs": [],
   "source": [
    "#首先 import 這幾個套件 \n",
    "import speech_recognition\n",
    "import time\n",
    "import os\n",
    "import pyaudio\n",
    "import threading"
   ]
  },
  {
   "cell_type": "code",
   "execution_count": 8,
   "id": "596de3a6",
   "metadata": {},
   "outputs": [],
   "source": [
    "def job(source, sec):\n",
    "    r = speech_recognition.Recognizer()\n",
    "    audio = r.record(source, duration=sec)\n",
    "    try:\n",
    "        Text = r.recognize_google(audio, language=\"zh-TW\")\n",
    "    except:\n",
    "        Text = \"[無法翻譯]\"\n",
    "    print(Text)"
   ]
  },
  {
   "cell_type": "code",
   "execution_count": 9,
   "id": "8644a915",
   "metadata": {},
   "outputs": [
    {
     "name": "stdout",
     "output_type": "stream",
     "text": [
      "暑假的時間馬拉松中醫\n",
      "全部完成了要吃辛苦\n",
      "無法翻譯\n",
      "有無論是香港\n",
      "還是日本\n",
      "done\n"
     ]
    }
   ],
   "source": [
    "threads = []\n",
    "sec = 3\n",
    "with speech_recognition.Microphone() as source:\n",
    "    for i in range(5):\n",
    "        threads.append(threading.Thread(target=job, args=(source, sec, )))\n",
    "        threads[i].start()\n",
    "        time.sleep(sec)\n",
    "\n",
    "    for i in range(5):\n",
    "        threads[i].join()\n",
    "print('done')"
   ]
  }
 ],
 "metadata": {
  "kernelspec": {
   "display_name": "voice_identify",
   "language": "python",
   "name": "voice_identify"
  },
  "language_info": {
   "codemirror_mode": {
    "name": "ipython",
    "version": 3
   },
   "file_extension": ".py",
   "mimetype": "text/x-python",
   "name": "python",
   "nbconvert_exporter": "python",
   "pygments_lexer": "ipython3",
   "version": "3.9.12"
  }
 },
 "nbformat": 4,
 "nbformat_minor": 5
}
